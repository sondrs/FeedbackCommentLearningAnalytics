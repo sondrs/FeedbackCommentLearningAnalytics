{
 "cells": [
  {
   "cell_type": "markdown",
   "id": "7e5a2f6f-2e7d-42b9-9ab3-ac2dff5b22af",
   "metadata": {
    "tags": []
   },
   "source": [
    "<img src=\"utils/assets/Kristiania_symbol.jpg\" \n",
    "     align=\"left\" \n",
    "     width=\"100\" /> "
   ]
  },
  {
   "cell_type": "markdown",
   "id": "e21cbd31-d761-41d6-8318-398c3950341f",
   "metadata": {
    "tags": []
   },
   "source": [
    "# Course Evaluation Analysis App\n",
    "### Running the cell in this notebook will start the app for analysis of course evaluations\n",
    "Run the notebook by pressing the \"play\" icon. After seconds of processing, a message will read that a Dash app is running on a specified link. The link will open the app.\n",
    "\n",
    "The app is an analysis application that affords the user an array of filtering and aggregation options and displays the selected data in a barchart, a histogram and a data table."
   ]
  },
  {
   "cell_type": "code",
   "execution_count": 1,
   "id": "52aff760-26a2-4b5c-8c6a-532d2e64adc8",
   "metadata": {},
   "outputs": [
    {
     "name": "stderr",
     "output_type": "stream",
     "text": [
      "/Users/sondrestromdahl/Documents/Master of Information Systems Business Analytics/Master Thesis/For submission/Data and programming/utils/analytics.py:113: PerformanceWarning: indexing past lexsort depth may impact performance.\n",
      "  commentsDF = pd.DataFrame(data.loc[data.other.other.gotComment==True,\n",
      "/Users/sondrestromdahl/Documents/Master of Information Systems Business Analytics/Master Thesis/For submission/Data and programming/utils/analytics.py:115: PerformanceWarning: indexing past lexsort depth may impact performance.\n",
      "  data.loc[data.other.other.gotComment==True,\n",
      "/Users/sondrestromdahl/Documents/Master of Information Systems Business Analytics/Master Thesis/For submission/Data and programming/utils/analytics.py:267: PerformanceWarning: dropping on a non-lexsorted multi-index without a level parameter may impact performance.\n",
      "  commentsDF = commentsDF.reset_index().drop(columns=['docIdx'])\n"
     ]
    },
    {
     "name": "stdout",
     "output_type": "stream",
     "text": [
      "Dash app running on http://127.0.0.1:8050/\n"
     ]
    }
   ],
   "source": [
    "from utils.analytics import analysisDashboard\n",
    "analysisDashboard(filename = 'Evaluation_2020_2021',\n",
    "                path = 'Input/')"
   ]
  }
 ],
 "metadata": {
  "kernelspec": {
   "display_name": "Python 3 (ipykernel)",
   "language": "python",
   "name": "python3"
  },
  "language_info": {
   "codemirror_mode": {
    "name": "ipython",
    "version": 3
   },
   "file_extension": ".py",
   "mimetype": "text/x-python",
   "name": "python",
   "nbconvert_exporter": "python",
   "pygments_lexer": "ipython3",
   "version": "3.11.4"
  }
 },
 "nbformat": 4,
 "nbformat_minor": 5
}
